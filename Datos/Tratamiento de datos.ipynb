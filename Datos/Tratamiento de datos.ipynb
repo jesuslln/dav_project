{
 "cells": [
  {
   "cell_type": "markdown",
   "metadata": {},
   "source": [
    "# 5. Leer datos"
   ]
  },
  {
   "cell_type": "code",
   "execution_count": 18,
   "metadata": {},
   "outputs": [],
   "source": [
    "import pandas as pd\n",
    "import numpy as np\n",
    "from datetime import date"
   ]
  },
  {
   "cell_type": "code",
   "execution_count": 19,
   "metadata": {
    "scrolled": true
   },
   "outputs": [
    {
     "data": {
      "text/html": [
       "<div>\n",
       "<style scoped>\n",
       "    .dataframe tbody tr th:only-of-type {\n",
       "        vertical-align: middle;\n",
       "    }\n",
       "\n",
       "    .dataframe tbody tr th {\n",
       "        vertical-align: top;\n",
       "    }\n",
       "\n",
       "    .dataframe thead th {\n",
       "        text-align: right;\n",
       "    }\n",
       "</style>\n",
       "<table border=\"1\" class=\"dataframe\">\n",
       "  <thead>\n",
       "    <tr style=\"text-align: right;\">\n",
       "      <th></th>\n",
       "      <th>Titulo</th>\n",
       "      <th>Teatro</th>\n",
       "      <th>Sala</th>\n",
       "      <th>Fechas</th>\n",
       "      <th>Imagen</th>\n",
       "      <th>Link</th>\n",
       "      <th>Ano_inicio</th>\n",
       "      <th>Activa</th>\n",
       "    </tr>\n",
       "  </thead>\n",
       "  <tbody>\n",
       "    <tr>\n",
       "      <th>0</th>\n",
       "      <td>\\n             Los gestos\\n</td>\n",
       "      <td>\\n           \\n\\n             Teatro Valle-Inc...</td>\n",
       "      <td>\\n           \\n            Sala Grande\\n      ...</td>\n",
       "      <td>\\n           01 DIC - 14 ENE</td>\n",
       "      <td>https://dramatico.mcu.es/wp-content/uploads/20...</td>\n",
       "      <td>https://dramatico.mcu.es/evento/los-gestos/</td>\n",
       "      <td>2023</td>\n",
       "      <td>True</td>\n",
       "    </tr>\n",
       "    <tr>\n",
       "      <th>1</th>\n",
       "      <td>\\n            PLAY! (Nuevos Dramáticos)\\n     ...</td>\n",
       "      <td>\\n          \\n\\n            Teatro María Guerr...</td>\n",
       "      <td>\\n          \\n           Sala de la Princesa\\n...</td>\n",
       "      <td>\\n          30 NOV - 20 DIC</td>\n",
       "      <td>https://dramatico.mcu.es/wp-content/uploads/20...</td>\n",
       "      <td>https://dramatico.mcu.es/evento/play-nuevos-dr...</td>\n",
       "      <td>2023</td>\n",
       "      <td>True</td>\n",
       "    </tr>\n",
       "    <tr>\n",
       "      <th>2</th>\n",
       "      <td>\\n           Forever\\n</td>\n",
       "      <td>\\n         \\n\\n           Teatro María Guerrer...</td>\n",
       "      <td>\\n         \\n          Sala Grande\\n         \\n</td>\n",
       "      <td>\\n         29 NOV - 30 DIC</td>\n",
       "      <td>https://dramatico.mcu.es/wp-content/uploads/20...</td>\n",
       "      <td>https://dramatico.mcu.es/evento/forever/</td>\n",
       "      <td>2023</td>\n",
       "      <td>True</td>\n",
       "    </tr>\n",
       "    <tr>\n",
       "      <th>3</th>\n",
       "      <td>\\n           Hedda Gabler\\n</td>\n",
       "      <td>\\n         \\n\\n           Teatro Valle-Inclán\\...</td>\n",
       "      <td>\\n         \\n          Sala Francisco Nieva\\n ...</td>\n",
       "      <td>\\n         22 NOV - 30 DIC</td>\n",
       "      <td>https://dramatico.mcu.es/wp-content/uploads/20...</td>\n",
       "      <td>https://dramatico.mcu.es/evento/hedda-gabler/</td>\n",
       "      <td>2023</td>\n",
       "      <td>True</td>\n",
       "    </tr>\n",
       "    <tr>\n",
       "      <th>4</th>\n",
       "      <td>\\n           Estación paraíso\\n</td>\n",
       "      <td>\\n         \\n\\n           Titerescena\\n       ...</td>\n",
       "      <td>\\n         \\n          Sala El Mirlo Blanco\\n ...</td>\n",
       "      <td>\\n         16 DIC - 17 DIC</td>\n",
       "      <td>https://dramatico.mcu.es/wp-content/uploads/20...</td>\n",
       "      <td>https://dramatico.mcu.es/evento/estacion-paraiso/</td>\n",
       "      <td>2023</td>\n",
       "      <td>True</td>\n",
       "    </tr>\n",
       "  </tbody>\n",
       "</table>\n",
       "</div>"
      ],
      "text/plain": [
       "                                              Titulo  \\\n",
       "0            \\n             Los gestos\\n               \n",
       "1  \\n            PLAY! (Nuevos Dramáticos)\\n     ...   \n",
       "2                   \\n           Forever\\n             \n",
       "3              \\n           Hedda Gabler\\n             \n",
       "4          \\n           Estación paraíso\\n             \n",
       "\n",
       "                                              Teatro  \\\n",
       "0  \\n           \\n\\n             Teatro Valle-Inc...   \n",
       "1  \\n          \\n\\n            Teatro María Guerr...   \n",
       "2  \\n         \\n\\n           Teatro María Guerrer...   \n",
       "3  \\n         \\n\\n           Teatro Valle-Inclán\\...   \n",
       "4  \\n         \\n\\n           Titerescena\\n       ...   \n",
       "\n",
       "                                                Sala  \\\n",
       "0  \\n           \\n            Sala Grande\\n      ...   \n",
       "1  \\n          \\n           Sala de la Princesa\\n...   \n",
       "2    \\n         \\n          Sala Grande\\n         \\n   \n",
       "3  \\n         \\n          Sala Francisco Nieva\\n ...   \n",
       "4  \\n         \\n          Sala El Mirlo Blanco\\n ...   \n",
       "\n",
       "                          Fechas  \\\n",
       "0  \\n           01 DIC - 14 ENE    \n",
       "1   \\n          30 NOV - 20 DIC    \n",
       "2    \\n         29 NOV - 30 DIC    \n",
       "3    \\n         22 NOV - 30 DIC    \n",
       "4    \\n         16 DIC - 17 DIC    \n",
       "\n",
       "                                              Imagen  \\\n",
       "0  https://dramatico.mcu.es/wp-content/uploads/20...   \n",
       "1  https://dramatico.mcu.es/wp-content/uploads/20...   \n",
       "2  https://dramatico.mcu.es/wp-content/uploads/20...   \n",
       "3  https://dramatico.mcu.es/wp-content/uploads/20...   \n",
       "4  https://dramatico.mcu.es/wp-content/uploads/20...   \n",
       "\n",
       "                                                Link  Ano_inicio  Activa  \n",
       "0        https://dramatico.mcu.es/evento/los-gestos/        2023    True  \n",
       "1  https://dramatico.mcu.es/evento/play-nuevos-dr...        2023    True  \n",
       "2           https://dramatico.mcu.es/evento/forever/        2023    True  \n",
       "3      https://dramatico.mcu.es/evento/hedda-gabler/        2023    True  \n",
       "4  https://dramatico.mcu.es/evento/estacion-paraiso/        2023    True  "
      ]
     },
     "execution_count": 19,
     "metadata": {},
     "output_type": "execute_result"
    }
   ],
   "source": [
    "obras = pd.read_excel(\"./obras/plays_data.xlsx\")\n",
    "obras.head()"
   ]
  },
  {
   "cell_type": "markdown",
   "metadata": {},
   "source": [
    "### Limpiar datos\n",
    "\n",
    "1. hay caracteres \"\\n\" (saltos de línea) entre los datos. \n",
    "2. El formato de las fechas no es estándar."
   ]
  },
  {
   "cell_type": "code",
   "execution_count": 20,
   "metadata": {},
   "outputs": [
    {
     "data": {
      "text/html": [
       "<div>\n",
       "<style scoped>\n",
       "    .dataframe tbody tr th:only-of-type {\n",
       "        vertical-align: middle;\n",
       "    }\n",
       "\n",
       "    .dataframe tbody tr th {\n",
       "        vertical-align: top;\n",
       "    }\n",
       "\n",
       "    .dataframe thead th {\n",
       "        text-align: right;\n",
       "    }\n",
       "</style>\n",
       "<table border=\"1\" class=\"dataframe\">\n",
       "  <thead>\n",
       "    <tr style=\"text-align: right;\">\n",
       "      <th></th>\n",
       "      <th>Titulo</th>\n",
       "      <th>Teatro</th>\n",
       "      <th>Sala</th>\n",
       "      <th>Fechas</th>\n",
       "      <th>Imagen</th>\n",
       "      <th>Link</th>\n",
       "      <th>Ano_inicio</th>\n",
       "      <th>Activa</th>\n",
       "    </tr>\n",
       "  </thead>\n",
       "  <tbody>\n",
       "    <tr>\n",
       "      <th>0</th>\n",
       "      <td>Los gestos</td>\n",
       "      <td>Teatro Valle-Inclán   ...</td>\n",
       "      <td>Sala Grande</td>\n",
       "      <td>01 DIC - 14 ENE</td>\n",
       "      <td>https://dramatico.mcu.es/wp-content/uploads/20...</td>\n",
       "      <td>https://dramatico.mcu.es/evento/los-gestos/</td>\n",
       "      <td>2023</td>\n",
       "      <td>True</td>\n",
       "    </tr>\n",
       "    <tr>\n",
       "      <th>1</th>\n",
       "      <td>PLAY! (Nuevos Dramáticos)</td>\n",
       "      <td>Teatro María Guerrero   ...</td>\n",
       "      <td>Sala de la Princesa      ...</td>\n",
       "      <td>30 NOV - 20 DIC</td>\n",
       "      <td>https://dramatico.mcu.es/wp-content/uploads/20...</td>\n",
       "      <td>https://dramatico.mcu.es/evento/play-nuevos-dr...</td>\n",
       "      <td>2023</td>\n",
       "      <td>True</td>\n",
       "    </tr>\n",
       "    <tr>\n",
       "      <th>2</th>\n",
       "      <td>Forever</td>\n",
       "      <td>Teatro María Guerrero     ...</td>\n",
       "      <td>Sala Grande</td>\n",
       "      <td>29 NOV - 30 DIC</td>\n",
       "      <td>https://dramatico.mcu.es/wp-content/uploads/20...</td>\n",
       "      <td>https://dramatico.mcu.es/evento/forever/</td>\n",
       "      <td>2023</td>\n",
       "      <td>True</td>\n",
       "    </tr>\n",
       "    <tr>\n",
       "      <th>3</th>\n",
       "      <td>Hedda Gabler</td>\n",
       "      <td>Teatro Valle-Inclán       ...</td>\n",
       "      <td>Sala Francisco Nieva</td>\n",
       "      <td>22 NOV - 30 DIC</td>\n",
       "      <td>https://dramatico.mcu.es/wp-content/uploads/20...</td>\n",
       "      <td>https://dramatico.mcu.es/evento/hedda-gabler/</td>\n",
       "      <td>2023</td>\n",
       "      <td>True</td>\n",
       "    </tr>\n",
       "    <tr>\n",
       "      <th>4</th>\n",
       "      <td>Estación paraíso</td>\n",
       "      <td>Titerescena               ...</td>\n",
       "      <td>Sala El Mirlo Blanco</td>\n",
       "      <td>16 DIC - 17 DIC</td>\n",
       "      <td>https://dramatico.mcu.es/wp-content/uploads/20...</td>\n",
       "      <td>https://dramatico.mcu.es/evento/estacion-paraiso/</td>\n",
       "      <td>2023</td>\n",
       "      <td>True</td>\n",
       "    </tr>\n",
       "  </tbody>\n",
       "</table>\n",
       "</div>"
      ],
      "text/plain": [
       "                                             Titulo  \\\n",
       "0                            Los gestos               \n",
       "1              PLAY! (Nuevos Dramáticos)              \n",
       "2                                 Forever             \n",
       "3                            Hedda Gabler             \n",
       "4                        Estación paraíso             \n",
       "\n",
       "                                              Teatro  \\\n",
       "0                          Teatro Valle-Inclán   ...   \n",
       "1                        Teatro María Guerrero   ...   \n",
       "2                      Teatro María Guerrero     ...   \n",
       "3                      Teatro Valle-Inclán       ...   \n",
       "4                      Titerescena               ...   \n",
       "\n",
       "                                                Sala  \\\n",
       "0                             Sala Grande              \n",
       "1                       Sala de la Princesa      ...   \n",
       "2                               Sala Grande            \n",
       "3                      Sala Francisco Nieva            \n",
       "4                      Sala El Mirlo Blanco            \n",
       "\n",
       "                        Fechas  \\\n",
       "0             01 DIC - 14 ENE    \n",
       "1             30 NOV - 20 DIC    \n",
       "2             29 NOV - 30 DIC    \n",
       "3             22 NOV - 30 DIC    \n",
       "4             16 DIC - 17 DIC    \n",
       "\n",
       "                                              Imagen  \\\n",
       "0  https://dramatico.mcu.es/wp-content/uploads/20...   \n",
       "1  https://dramatico.mcu.es/wp-content/uploads/20...   \n",
       "2  https://dramatico.mcu.es/wp-content/uploads/20...   \n",
       "3  https://dramatico.mcu.es/wp-content/uploads/20...   \n",
       "4  https://dramatico.mcu.es/wp-content/uploads/20...   \n",
       "\n",
       "                                                Link  Ano_inicio  Activa  \n",
       "0        https://dramatico.mcu.es/evento/los-gestos/        2023    True  \n",
       "1  https://dramatico.mcu.es/evento/play-nuevos-dr...        2023    True  \n",
       "2           https://dramatico.mcu.es/evento/forever/        2023    True  \n",
       "3      https://dramatico.mcu.es/evento/hedda-gabler/        2023    True  \n",
       "4  https://dramatico.mcu.es/evento/estacion-paraiso/        2023    True  "
      ]
     },
     "execution_count": 20,
     "metadata": {},
     "output_type": "execute_result"
    }
   ],
   "source": [
    "columns_to_clean = ['Titulo', 'Teatro', 'Sala', 'Fechas']\n",
    "obras[columns_to_clean] = obras[columns_to_clean].replace('\\n', '', regex=True)\n",
    "\n",
    "# Print the cleaned DataFrame\n",
    "obras.head()"
   ]
  },
  {
   "cell_type": "code",
   "execution_count": 21,
   "metadata": {},
   "outputs": [
    {
     "name": "stdout",
     "output_type": "stream",
     "text": [
      "                                             Titulo  \\\n",
      "0                            Los gestos               \n",
      "1              PLAY! (Nuevos Dramáticos)              \n",
      "2                                 Forever             \n",
      "3                            Hedda Gabler             \n",
      "4                        Estación paraíso             \n",
      "\n",
      "                                              Teatro  \\\n",
      "0                          Teatro Valle-Inclán   ...   \n",
      "1                        Teatro María Guerrero   ...   \n",
      "2                      Teatro María Guerrero     ...   \n",
      "3                      Teatro Valle-Inclán       ...   \n",
      "4                      Titerescena               ...   \n",
      "\n",
      "                                                Sala  \\\n",
      "0                             Sala Grande              \n",
      "1                       Sala de la Princesa      ...   \n",
      "2                               Sala Grande            \n",
      "3                      Sala Francisco Nieva            \n",
      "4                      Sala El Mirlo Blanco            \n",
      "\n",
      "                                              Imagen  \\\n",
      "0  https://dramatico.mcu.es/wp-content/uploads/20...   \n",
      "1  https://dramatico.mcu.es/wp-content/uploads/20...   \n",
      "2  https://dramatico.mcu.es/wp-content/uploads/20...   \n",
      "3  https://dramatico.mcu.es/wp-content/uploads/20...   \n",
      "4  https://dramatico.mcu.es/wp-content/uploads/20...   \n",
      "\n",
      "                                                Link  Activa Fecha_inicio  \\\n",
      "0        https://dramatico.mcu.es/evento/los-gestos/    True   2023-12-01   \n",
      "1  https://dramatico.mcu.es/evento/play-nuevos-dr...    True   2023-11-30   \n",
      "2           https://dramatico.mcu.es/evento/forever/    True   2023-11-29   \n",
      "3      https://dramatico.mcu.es/evento/hedda-gabler/    True   2023-11-22   \n",
      "4  https://dramatico.mcu.es/evento/estacion-paraiso/    True   2023-12-16   \n",
      "\n",
      "  Fecha_final  \n",
      "0  2024-01-14  \n",
      "1  2023-12-20  \n",
      "2  2023-12-30  \n",
      "3  2023-12-30  \n",
      "4  2023-12-17  \n"
     ]
    }
   ],
   "source": [
    "# Split \"Fechas\" column into two columns\n",
    "obras[['Fecha_inicio_raw', 'Fecha_final_raw']] = obras['Fechas'].str.split('-', expand=True)\n",
    "\n",
    "# Strip any leading or trailing whitespaces\n",
    "obras['Fecha_inicio_raw'] = obras['Fecha_inicio_raw'].str.strip()\n",
    "obras['Fecha_final_raw'] = obras['Fecha_final_raw'].str.strip()\n",
    "\n",
    "# Map Spanish month names to their corresponding numerical values\n",
    "spanish_month_names = {\n",
    "    'ENE': '01', 'FEB': '02', 'MAR': '03', 'ABR': '04',\n",
    "    'MAY': '05', 'JUN': '06', 'JUL': '07', 'AGO': '08',\n",
    "    'SEP': '09', 'OCT': '10', 'NOV': '11', 'DIC': '12'\n",
    "}\n",
    "\n",
    "# Extract day, month, and year from \"Fecha_inicio_raw\"\n",
    "obras[['Dia_inicio', 'Mes_inicio']] = obras['Fecha_inicio_raw'].str.split(' ', expand=True)\n",
    "obras['Mes_inicio'] = obras['Mes_inicio'].map(spanish_month_names)\n",
    "obras['Fecha_inicio'] = obras['Ano_inicio'].astype(str) + '/' + obras['Mes_inicio'] + '/' + obras['Dia_inicio']\n",
    "\n",
    "# Extract day, month, and year from \"Fecha_final_raw\"\n",
    "obras[['Dia_final', 'Mes_final']] = obras['Fecha_final_raw'].str.split(' ', expand=True)\n",
    "obras['Mes_final'] = obras['Mes_final'].map(spanish_month_names)\n",
    "obras['Fecha_final'] = obras['Ano_inicio'].astype(str) + '/' + obras['Mes_final'] + '/' + obras['Dia_final']\n",
    "\n",
    "# Convert \"Fecha_inicio\" and \"Fecha_final\" to datetime format\n",
    "obras['Fecha_inicio'] = pd.to_datetime(obras['Fecha_inicio'])\n",
    "obras['Fecha_final'] = pd.to_datetime(obras['Fecha_final'])\n",
    "\n",
    "# Handle cases where the play spans across the year boundary\n",
    "obras.loc[obras['Fecha_final'] < obras['Fecha_inicio'], 'Ano_inicio'] += 1\n",
    "\n",
    "# Recalculate \"Fecha_final\" after adjusting the year\n",
    "obras['Fecha_final'] = obras['Ano_inicio'].astype(str) + '/' + obras['Mes_final'] + '/' + obras['Dia_final']\n",
    "\n",
    "# Convert \"Fecha_final\" to datetime format\n",
    "obras['Fecha_final'] = pd.to_datetime(obras['Fecha_final'])\n",
    "\n",
    "# Drop unnecessary columns\n",
    "obras = obras.drop(['Fechas', 'Ano_inicio', 'Fecha_inicio_raw', 'Fecha_final_raw', 'Dia_inicio', 'Mes_inicio', 'Dia_final', 'Mes_final'], axis=1)\n",
    "\n",
    "# Print the cleaned DataFrame\n",
    "print(obras.head())"
   ]
  },
  {
   "cell_type": "code",
   "execution_count": 23,
   "metadata": {},
   "outputs": [
    {
     "name": "stdout",
     "output_type": "stream",
     "text": [
      "0     44\n",
      "1     20\n",
      "2     31\n",
      "3     38\n",
      "4      1\n",
      "      ..\n",
      "94     3\n",
      "95    32\n",
      "96    23\n",
      "97     1\n",
      "98     9\n",
      "Name: Duracion, Length: 99, dtype: int64\n"
     ]
    }
   ],
   "source": [
    "obras['Duracion'] = (obras['Fecha_final'] - obras['Fecha_inicio']).dt.days\n",
    "\n",
    "print(obras[\"Duracion\"])"
   ]
  },
  {
   "cell_type": "code",
   "execution_count": 29,
   "metadata": {},
   "outputs": [
    {
     "name": "stdout",
     "output_type": "stream",
     "text": [
      "                                             Titulo  \\\n",
      "0                            Los gestos               \n",
      "1              PLAY! (Nuevos Dramáticos)              \n",
      "2                                 Forever             \n",
      "3                            Hedda Gabler             \n",
      "4                        Estación paraíso             \n",
      "\n",
      "                                              Teatro  \\\n",
      "0                          Teatro Valle-Inclán   ...   \n",
      "1                        Teatro María Guerrero   ...   \n",
      "2                      Teatro María Guerrero     ...   \n",
      "3                      Teatro Valle-Inclán       ...   \n",
      "4                      Titerescena               ...   \n",
      "\n",
      "                                                Sala  \\\n",
      "0                             Sala Grande              \n",
      "1                       Sala de la Princesa      ...   \n",
      "2                               Sala Grande            \n",
      "3                      Sala Francisco Nieva            \n",
      "4                      Sala El Mirlo Blanco            \n",
      "\n",
      "                                              Imagen  \\\n",
      "0  https://dramatico.mcu.es/wp-content/uploads/20...   \n",
      "1  https://dramatico.mcu.es/wp-content/uploads/20...   \n",
      "2  https://dramatico.mcu.es/wp-content/uploads/20...   \n",
      "3  https://dramatico.mcu.es/wp-content/uploads/20...   \n",
      "4  https://dramatico.mcu.es/wp-content/uploads/20...   \n",
      "\n",
      "                                                Link  Activa Fecha_inicio  \\\n",
      "0        https://dramatico.mcu.es/evento/los-gestos/    True   2023-12-01   \n",
      "1  https://dramatico.mcu.es/evento/play-nuevos-dr...    True   2023-11-30   \n",
      "2           https://dramatico.mcu.es/evento/forever/    True   2023-11-29   \n",
      "3      https://dramatico.mcu.es/evento/hedda-gabler/    True   2023-11-22   \n",
      "4  https://dramatico.mcu.es/evento/estacion-paraiso/    True   2023-12-16   \n",
      "\n",
      "  Fecha_final  Duracion  entradas_vendidas  \n",
      "0  2024-01-14        44             1517.0  \n",
      "1  2023-12-20        20             3206.0  \n",
      "2  2023-12-30        31             2801.0  \n",
      "3  2023-12-30        38             2202.0  \n",
      "4  2023-12-17         1               27.0  \n"
     ]
    }
   ],
   "source": [
    "obras[\"Duracion\"].describe()\n"
   ]
  },
  {
   "cell_type": "code",
   "execution_count": 30,
   "metadata": {},
   "outputs": [
    {
     "data": {
      "text/plain": [
       "count      99.000000\n",
       "mean     1093.696970\n",
       "std      1075.697841\n",
       "min        20.000000\n",
       "25%        27.500000\n",
       "50%       966.000000\n",
       "75%      1979.500000\n",
       "max      3301.000000\n",
       "Name: entradas_vendidas, dtype: float64"
      ]
     },
     "execution_count": 30,
     "metadata": {},
     "output_type": "execute_result"
    }
   ],
   "source": [
    "obras['entradas_vendidas'].describe()"
   ]
  },
  {
   "cell_type": "markdown",
   "metadata": {},
   "source": [
    "## Análisis de datos"
   ]
  },
  {
   "cell_type": "code",
   "execution_count": 13,
   "metadata": {},
   "outputs": [
    {
     "data": {
      "text/plain": [
       "Titulo                  object\n",
       "Teatro                  object\n",
       "Sala                    object\n",
       "Imagen                  object\n",
       "Link                    object\n",
       "Activa                    bool\n",
       "Fecha_inicio    datetime64[ns]\n",
       "Fecha_final     datetime64[ns]\n",
       "dtype: object"
      ]
     },
     "execution_count": 13,
     "metadata": {},
     "output_type": "execute_result"
    }
   ],
   "source": [
    "# Tipos de las columnas\n",
    "obras.dtypes"
   ]
  },
  {
   "cell_type": "code",
   "execution_count": 14,
   "metadata": {},
   "outputs": [
    {
     "data": {
      "text/plain": [
       "Titulo          0\n",
       "Teatro          0\n",
       "Sala            2\n",
       "Imagen          0\n",
       "Link            0\n",
       "Activa          0\n",
       "Fecha_inicio    0\n",
       "Fecha_final     0\n",
       "dtype: int64"
      ]
     },
     "execution_count": 14,
     "metadata": {},
     "output_type": "execute_result"
    }
   ],
   "source": [
    "# Comprobar el número de NAs\n",
    "\n",
    "obras.isna().sum()"
   ]
  },
  {
   "cell_type": "markdown",
   "metadata": {},
   "source": [
    "## Gráficas\n",
    "\n",
    "1. Obras en cada teatro - sala?\n",
    "2. Obras en cada año\n"
   ]
  },
  {
   "cell_type": "code",
   "execution_count": null,
   "metadata": {},
   "outputs": [],
   "source": []
  },
  {
   "cell_type": "code",
   "execution_count": null,
   "metadata": {},
   "outputs": [],
   "source": [
    "np.random.normal(1500, 9.7, n_m)"
   ]
  }
 ],
 "metadata": {
  "kernelspec": {
   "display_name": "Python 3 (ipykernel)",
   "language": "python",
   "name": "python3"
  },
  "language_info": {
   "codemirror_mode": {
    "name": "ipython",
    "version": 3
   },
   "file_extension": ".py",
   "mimetype": "text/x-python",
   "name": "python",
   "nbconvert_exporter": "python",
   "pygments_lexer": "ipython3",
   "version": "3.9.13"
  }
 },
 "nbformat": 4,
 "nbformat_minor": 4
}
